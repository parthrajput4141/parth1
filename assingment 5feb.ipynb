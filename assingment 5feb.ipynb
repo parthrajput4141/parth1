{
 "cells": [
  {
   "cell_type": "code",
   "execution_count": 3,
   "id": "116ab691-f9c1-4c9d-80c3-75ba5820112a",
   "metadata": {},
   "outputs": [],
   "source": [
    "class pwskill:\n",
    "    def welcome(self):\n",
    "        print(\"welcome in my claa\")\n",
    "    "
   ]
  },
  {
   "cell_type": "code",
   "execution_count": 2,
   "id": "271ed50e-8d87-45b1-b1a6-5fa1cfbf1db3",
   "metadata": {},
   "outputs": [],
   "source": [
    "raju=pwskill"
   ]
  },
  {
   "cell_type": "code",
   "execution_count": 4,
   "id": "fdc825fb-381c-4dc1-97ae-d417a988b21d",
   "metadata": {},
   "outputs": [
    {
     "name": "stdout",
     "output_type": "stream",
     "text": [
      "welcome in my claa\n"
     ]
    }
   ],
   "source": [
    "raju.welcome()"
   ]
  },
  {
   "cell_type": "code",
   "execution_count": 5,
   "id": "61fae15a-0b2c-4f97-b0c0-f52e53396400",
   "metadata": {},
   "outputs": [
    {
     "data": {
      "text/plain": [
       "'isme hmara oject raju h or pwskill hmarmi class'"
      ]
     },
     "execution_count": 5,
     "metadata": {},
     "output_type": "execute_result"
    }
   ],
   "source": [
    "\"isme hmara oject raju h or pwskill hmarmi class\""
   ]
  },
  {
   "cell_type": "code",
   "execution_count": 6,
   "id": "04d61f65-7067-405f-b4c3-5fdd1ddd4deb",
   "metadata": {},
   "outputs": [],
   "source": [
    "a=\"abstraction\"\n",
    "b=\"encapsulation\"\n",
    "c=\"inheritance\"\n",
    "d=\"polymorphism\""
   ]
  },
  {
   "cell_type": "code",
   "execution_count": 10,
   "id": "046f8327-0a25-4b20-95d7-4570a8a76dc2",
   "metadata": {},
   "outputs": [],
   "source": [
    "class sharma:\n",
    "    def __init__(self,phone_no,email_id,student_id):\n",
    "        self.phone_no=phone_no\n",
    "        self.email_id=email_id\n",
    "        self.student_id=student_id\n",
    "    def return_detail(self):\n",
    "        return self.email_id,self.phone_no,self.student_id"
   ]
  },
  {
   "cell_type": "code",
   "execution_count": 12,
   "id": "6a711409-7beb-45e9-97a1-295147cb5ccc",
   "metadata": {},
   "outputs": [],
   "source": [
    "parth=sharma(98287983,\"parth@gmail.com\",987)"
   ]
  },
  {
   "cell_type": "code",
   "execution_count": 13,
   "id": "8bea1dcf-40bb-41ea-9ee2-cf0b38caf99b",
   "metadata": {},
   "outputs": [
    {
     "data": {
      "text/plain": [
       "('parth@gmail.com', 98287983, 987)"
      ]
     },
     "execution_count": 13,
     "metadata": {},
     "output_type": "execute_result"
    }
   ],
   "source": [
    "parth.return_detail()"
   ]
  },
  {
   "cell_type": "code",
   "execution_count": 14,
   "id": "cc7ae229-e70b-44a5-b469-eb604bdf396f",
   "metadata": {},
   "outputs": [
    {
     "data": {
      "text/plain": [
       "'parth is class ka object h'"
      ]
     },
     "execution_count": 14,
     "metadata": {},
     "output_type": "execute_result"
    }
   ],
   "source": [
    "\"__init__ ye hamar functions ko class ke sath bind karta h \"\n",
    "\"parth is class ka object h\""
   ]
  },
  {
   "cell_type": "code",
   "execution_count": null,
   "id": "762dabf0-ef18-4a8a-acf3-19084137be3b",
   "metadata": {},
   "outputs": [],
   "source": []
  }
 ],
 "metadata": {
  "kernelspec": {
   "display_name": "Python 3 (ipykernel)",
   "language": "python",
   "name": "python3"
  },
  "language_info": {
   "codemirror_mode": {
    "name": "ipython",
    "version": 3
   },
   "file_extension": ".py",
   "mimetype": "text/x-python",
   "name": "python",
   "nbconvert_exporter": "python",
   "pygments_lexer": "ipython3",
   "version": "3.10.8"
  }
 },
 "nbformat": 4,
 "nbformat_minor": 5
}
