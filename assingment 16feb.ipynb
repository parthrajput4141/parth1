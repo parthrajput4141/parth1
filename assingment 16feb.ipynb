{
 "cells": [
  {
   "cell_type": "code",
   "execution_count": 1,
   "id": "dc375d4b-9aa6-464f-b2ca-287295922ff4",
   "metadata": {},
   "outputs": [
    {
     "data": {
      "text/plain": [
       "'database is an organised collection of structered information,or data ,typically store in computer '"
      ]
     },
     "execution_count": 1,
     "metadata": {},
     "output_type": "execute_result"
    }
   ],
   "source": [
    "\"database is an organised collection of structered information,or data ,typically store in computer \""
   ]
  },
  {
   "cell_type": "code",
   "execution_count": 2,
   "id": "428c57c2-0682-4ad5-a32a-a297f9314740",
   "metadata": {},
   "outputs": [
    {
     "data": {
      "text/plain": [
       "'sql= structed query language , nosql=not only structed query language'"
      ]
     },
     "execution_count": 2,
     "metadata": {},
     "output_type": "execute_result"
    }
   ],
   "source": [
    "\"sql= structed query language , nosql=not only structed query language\""
   ]
  },
  {
   "cell_type": "code",
   "execution_count": 6,
   "id": "0b71e1a0-6089-41c3-96f3-830b06718919",
   "metadata": {},
   "outputs": [
    {
     "data": {
      "text/plain": [
       "'sql are save structed data and nosql save unstructed data as wlll as structed data'"
      ]
     },
     "execution_count": 6,
     "metadata": {},
     "output_type": "execute_result"
    }
   ],
   "source": [
    "\"difference between sql and nosql are: sql are relational and nosql are non relational\"\n",
    "\"sql are save structed data and nosql save unstructed data as wlll as structed data\""
   ]
  },
  {
   "cell_type": "code",
   "execution_count": 7,
   "id": "a35a6df8-3a6d-44fb-b7e2-2297ccbfd6a7",
   "metadata": {},
   "outputs": [
    {
     "data": {
      "text/plain": [
       "'dml= (data manipulation language) this is a computer  language  including comandes which premiting the data into the data base and in this involes insert a data in the table and upgarde a data and delte the data dorm the data base and table'"
      ]
     },
     "execution_count": 7,
     "metadata": {},
     "output_type": "execute_result"
    }
   ],
   "source": [
    "\"dml= (data manipulation language) this is a computer  language  including comandes which premiting the data into the data base and in this involes insert a data in the table and upgarde a data and delte the data dorm the data base and table\""
   ]
  },
  {
   "cell_type": "code",
   "execution_count": 8,
   "id": "2d875f2f-99b3-4fb3-9588-3a4d383ef04b",
   "metadata": {},
   "outputs": [
    {
     "ename": "ModuleNotFoundError",
     "evalue": "No module named 'mysql'",
     "output_type": "error",
     "traceback": [
      "\u001b[0;31m---------------------------------------------------------------------------\u001b[0m",
      "\u001b[0;31mModuleNotFoundError\u001b[0m                       Traceback (most recent call last)",
      "Cell \u001b[0;32mIn[8], line 1\u001b[0m\n\u001b[0;32m----> 1\u001b[0m \u001b[38;5;28;01mimport\u001b[39;00m \u001b[38;5;21;01mmysql\u001b[39;00m\u001b[38;5;21;01m.\u001b[39;00m\u001b[38;5;21;01mconnector\u001b[39;00m\n\u001b[1;32m      4\u001b[0m mydb \u001b[38;5;241m=\u001b[39m mysql\u001b[38;5;241m.\u001b[39mconnector\u001b[38;5;241m.\u001b[39mconnect(\n\u001b[1;32m      5\u001b[0m   host\u001b[38;5;241m=\u001b[39m\u001b[38;5;124m\"\u001b[39m\u001b[38;5;124mlocalhost\u001b[39m\u001b[38;5;124m\"\u001b[39m,\n\u001b[1;32m      6\u001b[0m   user\u001b[38;5;241m=\u001b[39m\u001b[38;5;124m\"\u001b[39m\u001b[38;5;124mabc\u001b[39m\u001b[38;5;124m\"\u001b[39m,\n\u001b[1;32m      7\u001b[0m   password\u001b[38;5;241m=\u001b[39m\u001b[38;5;124m\"\u001b[39m\u001b[38;5;124mpassword\u001b[39m\u001b[38;5;124m\"\u001b[39m\n\u001b[1;32m      8\u001b[0m )\n\u001b[1;32m     10\u001b[0m mycursor \u001b[38;5;241m=\u001b[39m mydb\u001b[38;5;241m.\u001b[39mcursor()\n",
      "\u001b[0;31mModuleNotFoundError\u001b[0m: No module named 'mysql'"
     ]
    }
   ],
   "source": [
    "import mysql.connector\n",
    "\n",
    "\n",
    "mydb = mysql.connector.connect(\n",
    "  host=\"localhost\",\n",
    "  user=\"abc\",\n",
    "  password=\"password\"\n",
    ")\n",
    "\n",
    "mycursor = mydb.cursor()\n",
    "mycursor.execute(\"insert into test.test_table values( 23, 'parth', 6.4,  'raju')\")\n",
    "mydb.commit()\n",
    "mydb.close()"
   ]
  },
  {
   "cell_type": "code",
   "execution_count": 9,
   "id": "b441391e-4cd8-484c-9d38-2762349bc791",
   "metadata": {},
   "outputs": [
    {
     "data": {
      "text/plain": [
       "'DQL=data query langauge this allows a data to get and organise data from a data base'"
      ]
     },
     "execution_count": 9,
     "metadata": {},
     "output_type": "execute_result"
    }
   ],
   "source": [
    "\"DQL=data query langauge this allows a data to get and organise data from a data base\""
   ]
  },
  {
   "cell_type": "code",
   "execution_count": 11,
   "id": "4946a311-24d1-4ec9-8a8e-89821a12ecee",
   "metadata": {},
   "outputs": [
    {
     "ename": "ModuleNotFoundError",
     "evalue": "No module named 'mysql'",
     "output_type": "error",
     "traceback": [
      "\u001b[0;31m---------------------------------------------------------------------------\u001b[0m",
      "\u001b[0;31mModuleNotFoundError\u001b[0m                       Traceback (most recent call last)",
      "Cell \u001b[0;32mIn[11], line 3\u001b[0m\n\u001b[1;32m      1\u001b[0m \u001b[38;5;66;03m#python code to connect MySQL to python.\u001b[39;00m\n\u001b[0;32m----> 3\u001b[0m \u001b[38;5;28;01mimport\u001b[39;00m \u001b[38;5;21;01mmysql\u001b[39;00m\u001b[38;5;21;01m.\u001b[39;00m\u001b[38;5;21;01mconnector\u001b[39;00m\n\u001b[1;32m      6\u001b[0m mydb \u001b[38;5;241m=\u001b[39m mysql\u001b[38;5;241m.\u001b[39mconnector\u001b[38;5;241m.\u001b[39mconnect(\n\u001b[1;32m      7\u001b[0m   host\u001b[38;5;241m=\u001b[39m\u001b[38;5;124m\"\u001b[39m\u001b[38;5;124mlocalhost\u001b[39m\u001b[38;5;124m\"\u001b[39m,\n\u001b[1;32m      8\u001b[0m   user\u001b[38;5;241m=\u001b[39m\u001b[38;5;124m\"\u001b[39m\u001b[38;5;124mabc\u001b[39m\u001b[38;5;124m\"\u001b[39m,\n\u001b[1;32m      9\u001b[0m   password\u001b[38;5;241m=\u001b[39m\u001b[38;5;124m\"\u001b[39m\u001b[38;5;124mpassword\u001b[39m\u001b[38;5;124m\"\u001b[39m\n\u001b[1;32m     10\u001b[0m )\n\u001b[1;32m     11\u001b[0m \u001b[38;5;28mprint\u001b[39m(mydb)\n",
      "\u001b[0;31mModuleNotFoundError\u001b[0m: No module named 'mysql'"
     ]
    }
   ],
   "source": [
    "#python code to connect MySQL to python.\n",
    "\n",
    "import mysql.connector\n",
    "\n",
    "\n",
    "mydb = mysql.connector.connect(\n",
    "  host=\"localhost\",\n",
    "  user=\"abc\",\n",
    "  password=\"password\"\n",
    ")\n",
    "print(mydb)\n",
    "mycursor = mydb.cursor()\n",
    "mycursor.execute(\"SHOW DATABASES\")\n",
    "for x in mycursor:\n",
    "  print(x)"
   ]
  },
  {
   "cell_type": "code",
   "execution_count": 12,
   "id": "8747d617-10b5-4acc-8ca0-62659767ae11",
   "metadata": {},
   "outputs": [
    {
     "data": {
      "text/plain": [
       "'mycusor jo hota h woh data ko search karta or table me jo bhi data hota use waha pe har jagh cursor jata h or check karta h'"
      ]
     },
     "execution_count": 12,
     "metadata": {},
     "output_type": "execute_result"
    }
   ],
   "source": [
    "\"mycusor jo hota h woh data ko search karta or table me jo bhi data hota use waha pe har jagh cursor jata h or check karta h\""
   ]
  },
  {
   "cell_type": "code",
   "execution_count": 13,
   "id": "3b95351e-a984-4ed1-a84f-1466f7bd75e9",
   "metadata": {},
   "outputs": [
    {
     "data": {
      "text/plain": [
       "'my excute wohb hota jise hm seach karte or phir jo data hota h database me or table me use print karta h or my cusor phele waha jake chek karta h print excute kara deta h '"
      ]
     },
     "execution_count": 13,
     "metadata": {},
     "output_type": "execute_result"
    }
   ],
   "source": [
    "\"my excute wohb hota jise hm seach karte or phir jo data hota h database me or table me use print karta h or my cusor phele waha jake chek karta h print excute kara deta h \" "
   ]
  },
  {
   "cell_type": "code",
   "execution_count": null,
   "id": "a9258528-5c66-4fe6-8c6f-d4139f161278",
   "metadata": {},
   "outputs": [],
   "source": []
  }
 ],
 "metadata": {
  "kernelspec": {
   "display_name": "Python 3 (ipykernel)",
   "language": "python",
   "name": "python3"
  },
  "language_info": {
   "codemirror_mode": {
    "name": "ipython",
    "version": 3
   },
   "file_extension": ".py",
   "mimetype": "text/x-python",
   "name": "python",
   "nbconvert_exporter": "python",
   "pygments_lexer": "ipython3",
   "version": "3.10.8"
  }
 },
 "nbformat": 4,
 "nbformat_minor": 5
}
